{
 "cells": [
  {
   "cell_type": "code",
   "execution_count": 0,
   "metadata": {
    "application/vnd.databricks.v1+cell": {
     "cellMetadata": {
      "byteLimit": 2048000,
      "rowLimit": 10000
     },
     "inputWidgets": {},
     "nuid": "ece6c517-eacd-41a7-bc82-1801ff87dc5d",
     "showTitle": false,
     "tableResultSettingsMap": {},
     "title": ""
    }
   },
   "outputs": [],
   "source": [
    "dbutils.widgets.text(\"value1\", \"0\", \"Enter first integer\")\n",
    "dbutils.widgets.text(\"value2\", \"0\", \"Enter second integer\")\n",
    "dbutils.widgets.text(\"env\", \"dev\", \"Enter environment\")\n",
    "\n",
    "value1 = int(dbutils.widgets.get(\"value1\"))\n",
    "value2 = int(dbutils.widgets.get(\"value2\"))\n",
    "env = dbutils.widgets.get(\"env\")"
   ]
  },
  {
   "cell_type": "code",
   "execution_count": 0,
   "metadata": {
    "application/vnd.databricks.v1+cell": {
     "cellMetadata": {
      "byteLimit": 2048000,
      "rowLimit": 10000
     },
     "inputWidgets": {},
     "nuid": "512389d9-b922-4f94-ae0f-c627e0e1995a",
     "showTitle": false,
     "tableResultSettingsMap": {},
     "title": ""
    }
   },
   "outputs": [],
   "source": [
    "repo_path = '/'.join(\n",
    "    dbutils.notebook.entry_point.getDbutils().notebook().getContext().notebookPath().get()\n",
    "    .split('/')[:-2]\n",
    ")\n",
    "workspace_path = f\"/Workspace/{repo_path.strip('/')}\"\n",
    "import sys\n",
    "print(f\"Repo path: {workspace_path}\")  # Verify the path\n",
    "sys.path.append(workspace_path)\n",
    "\n",
    "from logics.core.lif import add"
   ]
  },
  {
   "cell_type": "code",
   "execution_count": 0,
   "metadata": {
    "application/vnd.databricks.v1+cell": {
     "cellMetadata": {
      "byteLimit": 2048000,
      "rowLimit": 10000
     },
     "inputWidgets": {},
     "nuid": "91778f80-59f0-494d-8e49-d54aab3f196d",
     "showTitle": false,
     "tableResultSettingsMap": {},
     "title": ""
    }
   },
   "outputs": [],
   "source": [
    "import json\n",
    "\n",
    "with open(f\"{workspace_path}/config/{env}.json\", \"r\") as file:\n",
    "    config = json.load(file)\n",
    "\n",
    "json_value = config.get(\"storage_account\") \n",
    "\n",
    "print(json_value)"
   ]
  },
  {
   "cell_type": "code",
   "execution_count": 0,
   "metadata": {
    "application/vnd.databricks.v1+cell": {
     "cellMetadata": {
      "byteLimit": 2048000,
      "rowLimit": 10000
     },
     "inputWidgets": {},
     "nuid": "e7817538-f566-46f2-898f-3cfb3d87b242",
     "showTitle": false,
     "tableResultSettingsMap": {},
     "title": ""
    }
   },
   "outputs": [],
   "source": [
    "\n",
    "print(add(value1, value2))"
   ]
  }
 ],
 "metadata": {
  "application/vnd.databricks.v1+notebook": {
   "computePreferences": null,
   "dashboards": [],
   "environmentMetadata": {
    "base_environment": "",
    "environment_version": "2"
   },
   "language": "python",
   "notebookMetadata": {
    "pythonIndentUnit": 4
   },
   "notebookName": "notebook1",
   "widgets": {
    "env": {
     "currentValue": "dev",
     "nuid": "fc4e2598-60b7-4d37-963e-5462e03ca0d8",
     "typedWidgetInfo": {
      "autoCreated": false,
      "defaultValue": "dev",
      "label": "Enter environment",
      "name": "env",
      "options": {
       "widgetDisplayType": "Text",
       "validationRegex": null
      },
      "parameterDataType": "String"
     },
     "widgetInfo": {
      "widgetType": "text",
      "defaultValue": "dev",
      "label": "Enter environment",
      "name": "env",
      "options": {
       "widgetType": "text",
       "autoCreated": null,
       "validationRegex": null
      }
     }
    },
    "value1": {
     "currentValue": "5",
     "nuid": "6a782a05-3c32-4299-a5ba-618a71b66689",
     "typedWidgetInfo": {
      "autoCreated": false,
      "defaultValue": "0",
      "label": "Enter first integer",
      "name": "value1",
      "options": {
       "widgetDisplayType": "Text",
       "validationRegex": null
      },
      "parameterDataType": "String"
     },
     "widgetInfo": {
      "widgetType": "text",
      "defaultValue": "0",
      "label": "Enter first integer",
      "name": "value1",
      "options": {
       "widgetType": "text",
       "autoCreated": null,
       "validationRegex": null
      }
     }
    },
    "value2": {
     "currentValue": "15",
     "nuid": "857c312f-0c4e-4380-b620-c02c3d090404",
     "typedWidgetInfo": {
      "autoCreated": false,
      "defaultValue": "0",
      "label": "Enter second integer",
      "name": "value2",
      "options": {
       "widgetDisplayType": "Text",
       "validationRegex": null
      },
      "parameterDataType": "String"
     },
     "widgetInfo": {
      "widgetType": "text",
      "defaultValue": "0",
      "label": "Enter second integer",
      "name": "value2",
      "options": {
       "widgetType": "text",
       "autoCreated": null,
       "validationRegex": null
      }
     }
    }
   }
  },
  "language_info": {
   "name": "python"
  }
 },
 "nbformat": 4,
 "nbformat_minor": 0
}
